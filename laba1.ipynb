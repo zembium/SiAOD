{
 "cells": [
  {
   "cell_type": "code",
   "execution_count": 3,
   "id": "09412e7a",
   "metadata": {},
   "outputs": [],
   "source": [
    "#Лабораторная работа №1\n",
    "##Выполнила студентка группы БСТ2002 Иванова МС"
   ]
  },
  {
   "cell_type": "code",
   "execution_count": 1,
   "id": "46ccf358",
   "metadata": {},
   "outputs": [
    {
     "name": "stdout",
     "output_type": "stream",
     "text": [
      "Hello, World!\n"
     ]
    }
   ],
   "source": [
    "print(\"Hello, World!\")"
   ]
  },
  {
   "cell_type": "code",
   "execution_count": 2,
   "id": "cc49fcdb",
   "metadata": {},
   "outputs": [],
   "source": [
    "import random\n",
    "def generate_matrix(n = 50, m = 50, min_limit = -250, max_limit = 1011):\n",
    "    mas = []\n",
    "    mas2 = []\n",
    "    for j in range(n):\n",
    "        mas = []\n",
    "        for i in range(m):\n",
    "            mas.append(random.randint(min_limit, max_limit))\n",
    "        mas2.append(mas)\n",
    "    return mas2"
   ]
  },
  {
   "cell_type": "code",
   "execution_count": 3,
   "id": "300a0559",
   "metadata": {},
   "outputs": [
    {
     "name": "stdout",
     "output_type": "stream",
     "text": [
      "[[-812, 959, -682, 667, -371], [-879, 614, 241, -102, 268], [-473, -995, -390, -628, -562], [-638, 138, -164, -867, 641], [923, 733, 887, -158, -220]]\n"
     ]
    }
   ],
   "source": [
    "print(generate_matrix(5,5,-1000,1000))"
   ]
  },
  {
   "cell_type": "code",
   "execution_count": 4,
   "id": "454c5bfb",
   "metadata": {},
   "outputs": [
    {
     "name": "stdout",
     "output_type": "stream",
     "text": [
      "[[-822, -804, 585, 613, 794], [-413, -207, 374, 725, 934], [-792, -377, -118, 42, 844], [-362, -303, 316, 424, 918], [-818, -91, 218, 341, 692]]\n",
      "[[-822, -804, 585, 613, 794], [-413, -207, 374, 725, 934], [-792, -377, -118, 42, 844], [-362, -303, 316, 424, 918], [-818, -91, 218, 341, 692]]\n",
      "[[-822, -804, 585, 613, 794], [-413, -207, 374, 725, 934], [-792, -377, -118, 42, 844], [-362, -303, 316, 424, 918], [-818, -91, 218, 341, 692]]\n",
      "[[-822, -804, 585, 613, 794], [-413, -207, 374, 725, 934], [-792, -377, -118, 42, 844], [-362, -303, 316, 424, 918], [-818, -91, 218, 341, 692]]\n",
      "[[-822, -804, 585, 613, 794], [-413, -207, 374, 725, 934], [-792, -377, -118, 42, 844], [-362, -303, 316, 424, 918], [-818, -91, 218, 341, 692]]\n",
      "[[-822, -804, 585, 613, 794], [-413, -207, 374, 725, 934], [-792, -377, -118, 42, 844], [-362, -303, 316, 424, 918], [-818, -91, 218, 341, 692]]\n",
      "[[-822, -804, 585, 613, 794], [-413, -207, 374, 725, 934], [-792, -377, -118, 42, 844], [-362, -303, 316, 424, 918], [-818, -91, 218, 341, 692]]\n"
     ]
    }
   ],
   "source": [
    "import time\n",
    "\n",
    "def bubbleSort(matrix):\n",
    "    for i_matrix in range(len(matrix)):\n",
    "        nums = matrix[i_matrix]\n",
    "        swapped = True\n",
    "        while swapped:\n",
    "            swapped = False\n",
    "            for i in range(len(nums) - 1):\n",
    "                if nums[i] > nums[i + 1]:\n",
    "                    nums[i], nums[i + 1] = nums[i + 1], nums[i]\n",
    "                    swapped = True\n",
    "        matrix[i_matrix] = nums\n",
    "    return matrix\n",
    "def selectionSort(matrix):\n",
    "    for i_matrix in range(len(matrix)):\n",
    "        nums = matrix[i_matrix]\n",
    "        for i in range(len(nums)):\n",
    "            lowest_value_index = i\n",
    "            for j in range(i + 1, len(nums)):\n",
    "                if nums[j] < nums[lowest_value_index]:\n",
    "                    lowest_value_index = j\n",
    "            nums[i], nums[lowest_value_index] = nums[lowest_value_index], nums[i]\n",
    "        matrix[i_matrix] = nums\n",
    "    return matrix\n",
    "def insertionSort(matrix):\n",
    "    for i_matrix in range(len(matrix)):\n",
    "        nums = matrix[i_matrix]\n",
    "        for i in range(1, len(nums)):\n",
    "            item_to_insert = nums[i]\n",
    "            j = i - 1\n",
    "            while j >= 0 and nums[j] > item_to_insert:\n",
    "                nums[j + 1] = nums[j]\n",
    "                j -= 1\n",
    "            nums[j + 1] = item_to_insert\n",
    "        matrix[i_matrix] = nums\n",
    "    return matrix\n",
    "def shellSort(matrix):\n",
    "    for i_matrix in range(len(matrix)):\n",
    "        nums = matrix[i_matrix]\n",
    "        gap = len(nums)\n",
    "        while gap > 0:\n",
    "            for iIndex in range(gap, len(nums)):\n",
    "                temp = nums[iIndex]\n",
    "                jIndex = iIndex\n",
    "                while jIndex >= gap and nums[jIndex - gap] > temp:\n",
    "                    nums[jIndex] = nums[jIndex - gap]\n",
    "                    jIndex -= gap\n",
    "                nums[jIndex] = temp\n",
    "            gap //= 2\n",
    "        matrix[i_matrix] = nums\n",
    "    return matrix\n",
    "def heapify(nums, heap_size, root_index):\n",
    "    largest = root_index\n",
    "    left_child = (2 * root_index) + 1\n",
    "    right_child = (2 * root_index) + 2\n",
    "    if left_child < heap_size and nums[left_child] > nums[largest]:\n",
    "        largest = left_child\n",
    "    if right_child < heap_size and nums[right_child] > nums[largest]:\n",
    "        largest = right_child\n",
    "    if largest != root_index:\n",
    "        nums[root_index], nums[largest] = nums[largest], nums[root_index]\n",
    "        heapify(nums, heap_size, largest)\n",
    "def heapSort(matrix):\n",
    "    for i_matrix in range(len(matrix)):\n",
    "        nums = matrix[i_matrix]\n",
    "        n = len(nums)\n",
    "        for i in range(n, -1, -1):\n",
    "            heapify(nums, n, i)\n",
    "        for i in range(n - 1, 0, -1):\n",
    "            nums[i], nums[0] = nums[0], nums[i]\n",
    "            heapify(nums, i, 0)\n",
    "        matrix[i_matrix] = nums\n",
    "    return matrix\n",
    "def partition(nums, low, high):\n",
    "    pivot = nums[(low + high) // 2]\n",
    "    i = low - 1\n",
    "    j = high + 1\n",
    "    while True:\n",
    "        i += 1\n",
    "        while nums[i] < pivot:\n",
    "            i += 1\n",
    "        j -= 1\n",
    "        while nums[j] > pivot:\n",
    "            j -= 1\n",
    "        if i >= j:\n",
    "            return j\n",
    "        nums[i], nums[j] = nums[j], nums[i]\n",
    "def quickSort(matrix):\n",
    "    def quick_sort(items, low, high):\n",
    "        if low < high:\n",
    "            split_index = partition(items, low, high)\n",
    "            quick_sort(items, low, split_index)\n",
    "            quick_sort(items, split_index + 1, high)\n",
    "    for i_matrix in range(len(matrix)):\n",
    "        nums = matrix[i_matrix]\n",
    "        quick_sort(nums, 0, len(nums) - 1)\n",
    "        matrix[i_matrix] = nums\n",
    "    return matrix\n",
    "def tournamentSortStart(matrix):\n",
    "    tree = [None] * 2 * (len(matrix) + len(matrix) % 2)\n",
    "    index = len(tree) - len(matrix) - len(matrix) % 2\n",
    "    for i, v in enumerate(matrix):\n",
    "        tree[index + i] = (i, v)\n",
    "    for j in range(len(matrix)):\n",
    "        n = len(matrix)\n",
    "        index = len(tree) - len(matrix) - len(matrix) % 2\n",
    "        while index > -1:\n",
    "            n = (n + 1) // 2\n",
    "            for i in range(n):\n",
    "                i = max(index + i * 2, 1)\n",
    "                if tree[i] != None and tree[i + 1] != None:\n",
    "                    if tree[i][1] < tree[i + 1][1]:\n",
    "                        tree[i // 2] = tree[i]\n",
    "                    else:\n",
    "                        tree[i // 2] = tree[i + 1]\n",
    "                else:\n",
    "                    tree[i // 2] = tree[i] if tree[i] != None else tree[i + 1]\n",
    "            index -= n\n",
    "        index, x = tree[0]\n",
    "        matrix[j] = x\n",
    "        tree[len(tree) - len(matrix) - len(matrix) % 2 + index] = None\n",
    "def tournamentSort(matrix):\n",
    "    for i in range(len(matrix)):\n",
    "        tournamentSortStart(matrix[i])\n",
    "    return matrix\n",
    "matrix = generate_matrix(5,5,-1000,1000)\n",
    "print(bubbleSort(matrix))\n",
    "print(selectionSort(matrix))\n",
    "print(insertionSort(matrix))\n",
    "print(shellSort(matrix))\n",
    "print(heapSort(matrix))\n",
    "print(quickSort(matrix))\n",
    "print(tournamentSort(matrix))"
   ]
  },
  {
   "cell_type": "code",
   "execution_count": 5,
   "id": "f704b742",
   "metadata": {},
   "outputs": [
    {
     "name": "stdout",
     "output_type": "stream",
     "text": [
      "Время работы сортировки обменом:  0.08177733421325684\n",
      "Время работы сортировки выбором:  0.02393627166748047\n",
      "Время работы сортировки вставками:  0.0009992122650146484\n",
      "Время работы сортировки Шелла:  0.005980014801025391\n",
      "Время работы пирамидальной сортировки:  0.02813553810119629\n",
      "Время работы быстрой сортировки:  0.00809621810913086\n",
      "Время работы турнирной сортировки:  0.4319620132446289\n"
     ]
    }
   ],
   "source": [
    "matrix = generate_matrix(100,100,-1000,1000)\n",
    "start_time = time.time()\n",
    "bubbleSort(matrix)\n",
    "print(\"Время работы сортировки обменом: \", (time.time()-start_time))\n",
    "start_time = time.time()\n",
    "selectionSort(matrix)\n",
    "print(\"Время работы сортировки выбором: \", (time.time()-start_time))\n",
    "start_time = time.time()\n",
    "insertionSort(matrix)\n",
    "print(\"Время работы сортировки вставками: \", (time.time()-start_time))\n",
    "start_time = time.time()\n",
    "shellSort(matrix)\n",
    "print(\"Время работы сортировки Шелла: \", (time.time()-start_time))\n",
    "start_time = time.time()\n",
    "heapSort(matrix)\n",
    "print(\"Время работы пирамидальной сортировки: \", (time.time()-start_time))\n",
    "start_time = time.time()\n",
    "quickSort(matrix)\n",
    "print(\"Время работы быстрой сортировки: \", (time.time()-start_time))\n",
    "start_time = time.time()\n",
    "tournamentSort(matrix)\n",
    "print(\"Время работы турнирной сортировки: \", (time.time()-start_time))"
   ]
  }
 ],
 "metadata": {
  "kernelspec": {
   "display_name": "Python 3 (ipykernel)",
   "language": "python",
   "name": "python3"
  },
  "language_info": {
   "codemirror_mode": {
    "name": "ipython",
    "version": 3
   },
   "file_extension": ".py",
   "mimetype": "text/x-python",
   "name": "python",
   "nbconvert_exporter": "python",
   "pygments_lexer": "ipython3",
   "version": "3.10.2"
  }
 },
 "nbformat": 4,
 "nbformat_minor": 5
}
