{
 "cells": [
  {
   "cell_type": "markdown",
   "id": "cccde44f",
   "metadata": {},
   "source": [
    "# Лабораторная работа №6\n",
    "# Сетевые алгоритмы. Динамические алгоритмы поиска путей.\n",
    "## Выполнила студентка группы БСТ2002 Иванова М.С."
   ]
  },
  {
   "cell_type": "markdown",
   "id": "8f38b9f8",
   "metadata": {},
   "source": [
    "## Задание\n",
    "1. Реализовать алгоритм поиска кратчайшего расстояния между двумя вершинами ориентированного взвешенного графа в соответствии с вариантом.\n",
    "\n",
    "2. Предусмотреть задание графа в виде матрицы смежности/инцидентности, читаемой из файла, либо графически с помощью пользовательского интерфейса.\n",
    "\n",
    "3. Разработать графический интерфейс пользователя с визуализацией графа и отображением кратчайшего расстояния между задаваемыми пользователем вершинами.\n",
    "\n",
    "4. По результатам работы проанализировать временную сложность работы заданного алгоритма в зависимости от числа узлов и ребер графа. Данные представить в виде таблицы."
   ]
  },
  {
   "cell_type": "markdown",
   "id": "b474e68e",
   "metadata": {},
   "source": [
    "## Алгоритм Джонсона "
   ]
  },
  {
   "cell_type": "code",
   "execution_count": 2,
   "id": "2889e4aa",
   "metadata": {},
   "outputs": [
    {
     "name": "stdout",
     "output_type": "stream",
     "text": [
      "Requirement already satisfied: networkx in c:\\users\\zembium\\desktop\\saod\\jupiter\\venv\\lib\\site-packages (2.8)\n",
      "Requirement already satisfied: algorithmx in c:\\users\\zembium\\desktop\\saod\\jupiter\\venv\\lib\\site-packages (2.0.3)\n",
      "Requirement already satisfied: matplotlib in c:\\users\\zembium\\desktop\\saod\\jupiter\\venv\\lib\\site-packages (3.5.2)\n",
      "Requirement already satisfied: packaging>=20.0 in c:\\users\\zembium\\desktop\\saod\\jupiter\\venv\\lib\\site-packages (from matplotlib) (21.3)\n",
      "Requirement already satisfied: numpy>=1.17 in c:\\users\\zembium\\desktop\\saod\\jupiter\\venv\\lib\\site-packages (from matplotlib) (1.22.3)\n",
      "Requirement already satisfied: python-dateutil>=2.7 in c:\\users\\zembium\\desktop\\saod\\jupiter\\venv\\lib\\site-packages (from matplotlib) (2.8.2)\n",
      "Requirement already satisfied: pillow>=6.2.0 in c:\\users\\zembium\\desktop\\saod\\jupiter\\venv\\lib\\site-packages (from matplotlib) (9.1.0)\n",
      "Requirement already satisfied: pyparsing>=2.2.1 in c:\\users\\zembium\\desktop\\saod\\jupiter\\venv\\lib\\site-packages (from matplotlib) (3.0.8)\n",
      "Requirement already satisfied: cycler>=0.10 in c:\\users\\zembium\\desktop\\saod\\jupiter\\venv\\lib\\site-packages (from matplotlib) (0.11.0)\n",
      "Requirement already satisfied: fonttools>=4.22.0 in c:\\users\\zembium\\desktop\\saod\\jupiter\\venv\\lib\\site-packages (from matplotlib) (4.33.3)\n",
      "Requirement already satisfied: kiwisolver>=1.0.1 in c:\\users\\zembium\\desktop\\saod\\jupiter\\venv\\lib\\site-packages (from matplotlib) (1.4.2)\n",
      "Requirement already satisfied: six>=1.5 in c:\\users\\zembium\\desktop\\saod\\jupiter\\venv\\lib\\site-packages (from python-dateutil>=2.7->matplotlib) (1.16.0)\n"
     ]
    },
    {
     "name": "stderr",
     "output_type": "stream",
     "text": [
      "WARNING: You are using pip version 21.1.2; however, version 22.0.4 is available.\n",
      "You should consider upgrading via the 'C:\\Users\\zembium\\Desktop\\saod\\jupiter\\venv\\Scripts\\python.exe -m pip install --upgrade pip' command.\n"
     ]
    }
   ],
   "source": [
    "!pip install networkx algorithmx matplotlib"
   ]
  },
  {
   "cell_type": "code",
   "execution_count": 3,
   "id": "a675a2ce",
   "metadata": {},
   "outputs": [
    {
     "name": "stdout",
     "output_type": "stream",
     "text": [
      "Modified Graph: [[0, -3, 4, 5], [0, 0, 0, 0], [7, 0, 0, 0], [12, 0, 0, 0]]\n",
      "\n",
      "Кратчайшее расстояние с вершиной 0 в качестве отправной точки:\n",
      "\n",
      "Vertex 0: 0\n",
      "Vertex 1: -3\n",
      "Vertex 2: -3\n",
      "Vertex 3: -3\n",
      "\n",
      "Кратчайшее расстояние с вершиной 1 в качестве отправной точки:\n",
      "\n",
      "Vertex 0: 0\n",
      "Vertex 1: 0\n",
      "Vertex 2: 0\n",
      "Vertex 3: 0\n",
      "\n",
      "Кратчайшее расстояние с вершиной 2 в качестве отправной точки:\n",
      "\n",
      "Vertex 0: 7\n",
      "Vertex 1: 4\n",
      "Vertex 2: 0\n",
      "Vertex 3: 0\n",
      "\n",
      "Кратчайшее расстояние с вершиной 3 в качестве отправной точки:\n",
      "\n",
      "Vertex 0: 12\n",
      "Vertex 1: 9\n",
      "Vertex 2: 9\n",
      "Vertex 3: 0\n",
      "0.00023569999757455662 sec.\n"
     ]
    },
    {
     "data": {
      "image/png": "[encoded data removed]",
      "text/plain": [
       "<Figure size 432x288 with 1 Axes>"
      ]
     },
     "metadata": {},
     "output_type": "display_data"
    }
   ],
   "source": [
    "from collections import defaultdict\n",
    "import networkx as nx\n",
    "import algorithmx\n",
    "import json\n",
    "import timeit\n",
    "import matplotlib.pyplot as plt\n",
    "MAX_INT = float('Inf')\n",
    "\n",
    "\n",
    "def minDistance(dist, visited):\n",
    "    (minimum, minVertex) = (MAX_INT, 0)\n",
    "    for vertex in range(len(dist)):\n",
    "        if minimum > dist[vertex] and visited[vertex] == False:\n",
    "            (minimum, minVertex) = (dist[vertex], vertex)\n",
    "    return minVertex\n",
    "\n",
    "\n",
    "def Dijkstra(graph, modifiedGraph, src):\n",
    "    num_vertices = len(graph)\n",
    "    sptSet = defaultdict(lambda: False)\n",
    "    dist = [MAX_INT] * num_vertices\n",
    "    dist[src] = 0\n",
    "    for count in range(num_vertices):\n",
    "        curVertex = minDistance(dist, sptSet)\n",
    "        sptSet[curVertex] = True\n",
    "        for vertex in range(num_vertices):\n",
    "            if ((sptSet[vertex] == False) and\n",
    "                    (dist[vertex] > (dist[curVertex] +\n",
    "                                     modifiedGraph[curVertex][vertex])) and\n",
    "                    (graph[curVertex][vertex] != 0)):\n",
    "                dist[vertex] = (dist[curVertex] +\n",
    "                                modifiedGraph[curVertex][vertex]);\n",
    "    for vertex in range(num_vertices):\n",
    "        print('Vertex ' + str(vertex) + ': ' + str(dist[vertex]))\n",
    "\n",
    "        \n",
    "def BellmanFord(edges, graph, num_vertices):\n",
    "    dist = [MAX_INT] * (num_vertices + 1)\n",
    "    dist[num_vertices] = 0\n",
    "    for i in range(num_vertices):\n",
    "        edges.append([num_vertices, i, 0])\n",
    "    for i in range(num_vertices):\n",
    "        for (src, des, weight) in edges:\n",
    "            if ((dist[src] != MAX_INT) and\n",
    "                    (dist[src] + weight < dist[des])):\n",
    "                dist[des] = dist[src] + weight\n",
    "    return dist[0:num_vertices]\n",
    "\n",
    "\n",
    "\n",
    "def JohnsonAlgorithm(graph):\n",
    "    edges = []\n",
    "    for i in range(len(graph)):\n",
    "        for j in range(len(graph[i])):\n",
    "            if graph[i][j] != 0:\n",
    "                edges.append([i, j, graph[i][j]])\n",
    "    modifyWeights = BellmanFord(edges, graph, len(graph))\n",
    "    modifiedGraph = [[0 for x in range(len(graph))] for y in\n",
    "                     range(len(graph))]\n",
    "    for i in range(len(graph)):\n",
    "        for j in range(len(graph[i])):\n",
    "            if graph[i][j] != 0:\n",
    "                modifiedGraph[i][j] = (graph[i][j] +\n",
    "                                       modifyWeights[i] - modifyWeights[j]);\n",
    "    print('Modified Graph: ' + str(modifiedGraph))\n",
    "    for src in range(len(graph)):\n",
    "        print('\\nКратчайшее расстояние с вершиной ' +\n",
    "              str(src) + ' в качестве отправной точки:\\n')\n",
    "        Dijkstra(graph, modifiedGraph, src)\n",
    "graph = [[0, -7, 5, 9], [4, 0, 5, 0], [6, 0, 0, 3], [8, 0, 0, 0]]\n",
    "start = timeit.default_timer()\n",
    "JohnsonAlgorithm(graph)\n",
    "print(str((timeit.default_timer()-start)) +  \" sec.\")\n",
    "\n",
    "\n",
    "G = nx.DiGraph()\n",
    "for row in graph:\n",
    "    G.add_weighted_edges_from([(row[0], row[1], row[2])])\n",
    "pos = nx.spring_layout(G)\n",
    "nx.draw(G, pos, with_labels = True)"
   ]
  },
  {
   "cell_type": "code",
   "execution_count": null,
   "id": "241313f3",
   "metadata": {},
   "outputs": [],
   "source": []
  }
 ],
 "metadata": {
  "kernelspec": {
   "display_name": "Python 3 (ipykernel)",
   "language": "python",
   "name": "python3"
  },
  "language_info": {
   "codemirror_mode": {
    "name": "ipython",
    "version": 3
   },
   "file_extension": ".py",
   "mimetype": "text/x-python",
   "name": "python",
   "nbconvert_exporter": "python",
   "pygments_lexer": "ipython3",
   "version": "3.10.2"
  }
 },
 "nbformat": 4,
 "nbformat_minor": 5
}
