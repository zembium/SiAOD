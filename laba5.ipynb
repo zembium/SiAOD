{
 "cells": [
  {
   "cell_type": "markdown",
   "metadata": {
    "id": "WPvB9TcMmKA6"
   },
   "source": [
    "# Лабораторная работа №5\n",
    "# Рекурсия. Фракталы."
   ]
  },
  {
   "cell_type": "markdown",
   "metadata": {
    "id": "96Gi_LEvmSVH"
   },
   "source": [
    "## Выполнила студентка группы БСТ2002 Иванова Мария Сергеевна\n",
    "***"
   ]
  },
  {
   "cell_type": "markdown",
   "metadata": {
    "id": "4clYOyb0mbEv"
   },
   "source": [
    "### Задание:\n",
    "Реализовать генерацию заданного типа фрактала с применением рекурсивных функций.\n",
    "\n",
    "\n",
    "Добавить возможность задания глубины фрактала. \n",
    "\n",
    "\n",
    "Оценить глубину рекурсии. \n",
    "\n",
    "\n",
    "Построить таблицу зависимости времени построения от глубины фрактала."
   ]
  },
  {
   "cell_type": "markdown",
   "metadata": {
    "id": "wDXHbUmMmhRL"
   },
   "source": [
    "### Варианты заданий:\n",
    "\n",
    "Вариант | Задание\n",
    ":-------- |:-----\n",
    "1, 7, 13, 19, 25 | Кривая Коха\n",
    "2, 8, 14, 20, 26 | Кривая Гильберта\n",
    "3, 9,15,21,27 | Кривая Серпинского\n",
    "4, 10, 16, 22, 28 | Салфетка Серпинского\n",
    "5, 11, 17, 23, 29| Ковер Серпинского\n",
    "6, 12, 18, 24, 30 | Дерево Пифагора \n"
   ]
  },
  {
   "cell_type": "markdown",
   "metadata": {
    "id": "Wggfn8l7nG72"
   },
   "source": [
    "### Выполнение: 10 вариант"
   ]
  },
  {
   "cell_type": "code",
   "execution_count": 2,
   "metadata": {
    "id": "681a95mZnOSa"
   },
   "outputs": [
    {
     "name": "stdout",
     "output_type": "stream",
     "text": [
      "4: -11.317647457122803\n"
     ]
    }
   ],
   "source": [
    "import turtle as t\n",
    "import time\n",
    "\n",
    "\n",
    "def coord(s):\n",
    "    t.penup()\n",
    "    t.goto(s[0])\n",
    "    t.pendown()\n",
    "    t.goto(s[1])\n",
    "    t.goto(s[2])\n",
    "    t.goto(s[0])\n",
    "\n",
    "\n",
    "def get_mid(a, b):\n",
    "    x = (a[0] + b[0]) / 2\n",
    "    y = (a[1] + b[1]) / 2\n",
    "    return [x, y]\n",
    "\n",
    "\n",
    "def draw(size, i):\n",
    "    coord(size)\n",
    "    if i > 0:\n",
    "        size2 = [size[0], get_mid(size[0], size[1]), get_mid(size[0], size[2])]\n",
    "        draw(size2, i - 1)\n",
    "\n",
    "        size3 = [get_mid(size[0], size[2]), get_mid(size[1], size[2]), size[2]]\n",
    "        draw(size3, i - 1)\n",
    "\n",
    "        size4 = [get_mid(size[0], size[1]), size[1], get_mid(size[1], size[2])]\n",
    "        draw(size4, i - 1)\n",
    "\n",
    "\n",
    "t.hideturtle()\n",
    "t.speed(0)\n",
    "points = [[-200, 0], [200, 0], [0, 300]]\n",
    "\n",
    "recur = 4\n",
    "start = time.time()\n",
    "draw(points, recur)\n",
    "print(f'{recur}: {start - time.time()}')\n",
    "t.exitonclick()\n"
   ]
  }
 ],
 "metadata": {
  "colab": {
   "collapsed_sections": [],
   "name": "Lab5.ipynb",
   "provenance": []
  },
  "kernelspec": {
   "display_name": "Python 3 (ipykernel)",
   "language": "python",
   "name": "python3"
  },
  "language_info": {
   "codemirror_mode": {
    "name": "ipython",
    "version": 3
   },
   "file_extension": ".py",
   "mimetype": "text/x-python",
   "name": "python",
   "nbconvert_exporter": "python",
   "pygments_lexer": "ipython3",
   "version": "3.10.2"
  }
 },
 "nbformat": 4,
 "nbformat_minor": 1
}
